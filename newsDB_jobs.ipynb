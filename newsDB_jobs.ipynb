{
 "cells": [
  {
   "cell_type": "code",
   "execution_count": 17,
   "metadata": {},
   "outputs": [],
   "source": [
    "import pymongo\n",
    "import pandas\n",
    "import datetime\n",
    "\n",
    "client = pymongo.MongoClient(\"mongodb://localhost:27017/newsSearch\")\n",
    "db = client[\"newsSearch\"]\n",
    "newspaperCollection = \"newspaper\"\n",
    "redditCollection = \"reddit\"\n",
    "\n",
    "# all newsItems\n",
    "all_newsDataset = db[newspaperCollection].find({}, {\"_id\": 0})\n",
    "all_newsItems = pandas.DataFrame(list(all_newsDataset))\n",
    "\n",
    "# newsItems from December to May\n",
    "startDate = datetime.datetime(2017, 12, 1)\n",
    "endDate = datetime.datetime(2018, 5, 1)\n",
    "partial_newsDataset = db[newspaperCollection].find({\"creation_time\": {\"$gt\": startDate, \"$lt\": endDate}}, {\"_id\": 0})\n",
    "partial_newsItems = pandas.DataFrame(list(partial_newsDataset))"
   ]
  },
  {
   "cell_type": "code",
   "execution_count": 24,
   "metadata": {},
   "outputs": [],
   "source": [
    "# Get number of a comment replies\n",
    "def len_replies(replies_list):\n",
    "    num_total = len(replies_list)\n",
    "    for reply in replies_list:\n",
    "        num_replies = len_replies(reply[\"replies\"])\n",
    "        num_total = num_total + num_replies\n",
    "    return num_total\n",
    "    \n",
    "# Get the number of comments and replies\n",
    "def len_comments(comments_list):\n",
    "    num_comments = len(comments_list)\n",
    "    for comment in comments_list:\n",
    "        num_replies = len_replies(comment[\"replies\"])\n",
    "        num_comments = num_comments + num_replies\n",
    "    return num_comments\n",
    "\n",
    "# Get the maximum comment thread length in a comments list\n",
    "def max_thread_len(comments_list):\n",
    "    max_long = 0\n",
    "    for comment in comments_list:\n",
    "        num_replies = len_replies(comment[\"replies\"])\n",
    "        max_long = num_replies if num_replies > max_long else max_long\n",
    "    return max_long"
   ]
  },
  {
   "cell_type": "code",
   "execution_count": 19,
   "metadata": {
    "scrolled": false
   },
   "outputs": [
    {
     "name": "stderr",
     "output_type": "stream",
     "text": [
      "<ipython-input-19-71c42eb51424>:4: SettingWithCopyWarning: \n",
      "A value is trying to be set on a copy of a slice from a DataFrame.\n",
      "Try using .loc[row_indexer,col_indexer] = value instead\n",
      "\n",
      "See the caveats in the documentation: https://pandas.pydata.org/pandas-docs/stable/user_guide/indexing.html#returning-a-view-versus-a-copy\n",
      "  jobs[\"comments#\"] = jobs['comments'].apply(lambda x: len_comments(x))\n",
      "<ipython-input-19-71c42eb51424>:8: SettingWithCopyWarning: \n",
      "A value is trying to be set on a copy of a slice from a DataFrame.\n",
      "Try using .loc[row_indexer,col_indexer] = value instead\n",
      "\n",
      "See the caveats in the documentation: https://pandas.pydata.org/pandas-docs/stable/user_guide/indexing.html#returning-a-view-versus-a-copy\n",
      "  work[\"comments#\"] = work['comments'].apply(lambda x: len_comments(x))\n",
      "<ipython-input-19-71c42eb51424>:12: SettingWithCopyWarning: \n",
      "A value is trying to be set on a copy of a slice from a DataFrame.\n",
      "Try using .loc[row_indexer,col_indexer] = value instead\n",
      "\n",
      "See the caveats in the documentation: https://pandas.pydata.org/pandas-docs/stable/user_guide/indexing.html#returning-a-view-versus-a-copy\n",
      "  residents[\"comments#\"] = residents['comments'].apply(lambda x: len_comments(x))\n",
      "<ipython-input-19-71c42eb51424>:16: SettingWithCopyWarning: \n",
      "A value is trying to be set on a copy of a slice from a DataFrame.\n",
      "Try using .loc[row_indexer,col_indexer] = value instead\n",
      "\n",
      "See the caveats in the documentation: https://pandas.pydata.org/pandas-docs/stable/user_guide/indexing.html#returning-a-view-versus-a-copy\n",
      "  newcomers[\"comments#\"] = newcomers['comments'].apply(lambda x: len_comments(x))\n"
     ]
    }
   ],
   "source": [
    "# newsItems that have these work in the content: 'jobs', 'work', 'residents' or 'newcomers', \n",
    "# sorted by its number of comments\n",
    "jobs = partial_newsItems[partial_newsItems['content_text'].str.contains(\"jobs\")]\n",
    "jobs[\"comments#\"] = jobs['comments'].apply(lambda x: len_comments(x))\n",
    "jobs_sorted = jobs.sort_values(['comments#'], ascending=[False])\n",
    "\n",
    "work = partial_newsItems[partial_newsItems['content_text'].str.contains(\"work\")]\n",
    "work[\"comments#\"] = work['comments'].apply(lambda x: len_comments(x))\n",
    "work_sorted = work.sort_values(['comments#'], ascending=[False])\n",
    "\n",
    "residents = partial_newsItems[partial_newsItems['content_text'].str.contains(\"residents\")]\n",
    "residents[\"comments#\"] = residents['comments'].apply(lambda x: len_comments(x))\n",
    "residents_sorted = residents.sort_values(['comments#'], ascending=[False])\n",
    "\n",
    "newcomers = partial_newsItems[partial_newsItems['content_text'].str.contains(\"newcomers\")]\n",
    "newcomers[\"comments#\"] = newcomers['comments'].apply(lambda x: len_comments(x))\n",
    "newcomers_sorted = newcomers.sort_values(['comments#'], ascending=[False])"
   ]
  },
  {
   "cell_type": "code",
   "execution_count": 20,
   "metadata": {},
   "outputs": [
    {
     "data": {
      "text/plain": [
       "489     https://www.cbc.ca/news/business/recession-can...\n",
       "1185    https://www.cbc.ca/news/world/kirstjen-nielsen...\n",
       "1425    https://www.cbc.ca/news/canada/hamilton/hamilt...\n",
       "1596    https://www.cbc.ca/news/world/trump-mexico-wal...\n",
       "978     https://www.cbc.ca/news/canada/how-canada-is-p...\n",
       "1555    https://www.cbc.ca/news/politics/liberal-trude...\n",
       "796     https://www.cbc.ca/news/politics/canada-immigr...\n",
       "333     https://www.cbc.ca/news/politics/grenier-immig...\n",
       "485     https://www.cbc.ca/news/technology/canada-clim...\n",
       "146     https://www.cbc.ca/news/canada/immigrants-face...\n",
       "Name: url, dtype: object"
      ]
     },
     "execution_count": 20,
     "metadata": {},
     "output_type": "execute_result"
    }
   ],
   "source": [
    "# Get all news items from the database and create a dataframe with it\n",
    "newsDataset = db[newspaperCollection].find({}, {\"_id\": 0})\n",
    "newsItems = pandas.DataFrame(list(newsDataset))\n",
    "\n",
    "column_comments_len = \"# comments\"\n",
    "\n",
    "# All the news items sorted by the number of comments (comments and its replies)\n",
    "newsItems[column_comments_len] = newsItems['comments'].apply(lambda x: len_comments(x))\n",
    "newsItems_sorted = newsItems.sort_values([column_comments_len], ascending=[False])\n",
    "\n",
    "# Get only those newsItem with more than N comments\n",
    "n = 1000\n",
    "newsItems_nComments = newsItems_sorted[newsItems_sorted[column_comments_len] > n]\n",
    "\n",
    "#pandas.set_option('display.max_colwidth', -1)\n",
    "newsItems_nComments['url'].head(10)"
   ]
  },
  {
   "cell_type": "code",
   "execution_count": 21,
   "metadata": {
    "scrolled": true
   },
   "outputs": [],
   "source": [
    "import matplotlib.pyplot as plt\n",
    "\n",
    "# Plot the dataframe content -> news sorted by number of comments/replies/len_thread and classify into\n",
    "# different topics -> The colors of the bar represent differents topcis\n",
    "def plot_df(dataframe, y_column_name):\n",
    "    dataframe = dataframe.reset_index()\n",
    "    ax = dataframe.plot(x='index', y=y_column_name, color=\"#A3A948\")\n",
    "    dataframe.plot(y=\"economic\", kind='bar', ax=ax, color=\"#EDB92E\", width=0.8)\n",
    "    dataframe.plot(y=\"education\", kind='bar', ax=ax, color=\"#F85931\", width=0.8)\n",
    "    dataframe.plot(y=\"health\", kind='bar', ax=ax, color=\"#CE1836\", width=0.8)\n",
    "    dataframe.plot(y=\"policies\", kind='bar', ax=ax, color=\"#009989\", width=0.8)\n",
    "    plt.tick_params(\n",
    "        axis='x',          # changes apply to the x-axis\n",
    "        which='both',      # both major and minor ticks are affected\n",
    "        bottom=False,      # ticks along the bottom edge are off\n",
    "        top=False,         # ticks along the top edge are off\n",
    "        labelbottom=False) # labels \n",
    "    plt.show()\n",
    "    \n",
    "    \n",
    "# Return the number of comments/replies/max_thread_len for a topic\n",
    "def get_value_for_topic(row, topic, column_name):\n",
    "    classification = row[\"classification\"]\n",
    "    if classification == topic:\n",
    "        return row[column_name]\n",
    "    else:\n",
    "        return 0\n",
    "    \n",
    "def add_topics_values(dataframe, column_name):\n",
    "    dataframe[\"economic\"] = dataframe.apply(lambda x: get_value_for_topic(x, \"economic\", column_name), axis=1)\n",
    "    dataframe[\"education\"] = dataframe.apply(lambda x : get_value_for_topic(x, \"education\", column_name), axis=1)\n",
    "    dataframe[\"health\"] = dataframe.apply(lambda x : get_value_for_topic(x, \"health\", column_name), axis=1)\n",
    "    dataframe[\"policies\"] = dataframe.apply(lambda x : get_value_for_topic(x, \"policies\", column_name), axis=1)"
   ]
  },
  {
   "cell_type": "code",
   "execution_count": 22,
   "metadata": {},
   "outputs": [
    {
     "data": {
      "image/png": "[encoded data removed]",
      "text/plain": [
       "<Figure size 432x288 with 1 Axes>"
      ]
     },
     "metadata": {
      "needs_background": "light"
     },
     "output_type": "display_data"
    }
   ],
   "source": [
    "newsItems_1k_comments = newsItems_nComments.reset_index()\n",
    "newsItems_1k_comments = newsItems_1k_comments.drop(['index'], axis=1)\n",
    "add_topics_values(newsItems_1k_comments, column_comments_len)\n",
    "\n",
    "plot_df(newsItems_1k_comments, column_comments_len)"
   ]
  },
  {
   "cell_type": "code",
   "execution_count": 27,
   "metadata": {},
   "outputs": [
    {
     "data": {
      "image/png": "[encoded data removed]",
      "text/plain": [
       "<Figure size 432x288 with 1 Axes>"
      ]
     },
     "metadata": {
      "needs_background": "light"
     },
     "output_type": "display_data"
    }
   ],
   "source": [
    "newsDataset = db[newspaperCollection].find({}, {\"_id\": 0})\n",
    "thread_newsItems = pandas.DataFrame(list(newsDataset))\n",
    "\n",
    "column_thread_len = \"max_thread_len\"\n",
    "\n",
    "thread_newsItems[column_thread_len] = thread_newsItems['comments'].apply(lambda x: max_thread_len(x))\n",
    "thread_newsItems_sorted = thread_newsItems.sort_values([column_thread_len], ascending=[False])\n",
    "\n",
    "n = 40\n",
    "newsItems_40len = thread_newsItems_sorted[thread_newsItems_sorted[column_thread_len] > n]\n",
    "newsItems_40len = newsItems_40len.reset_index()\n",
    "newsItems_40len = newsItems_40len.drop(['index'], axis=1)\n",
    "add_topics_values(newsItems_40len, column_thread_len)\n",
    "\n",
    "plot_df(newsItems_40len, column_thread_len)"
   ]
  },
  {
   "cell_type": "code",
   "execution_count": 30,
   "metadata": {},
   "outputs": [
    {
     "data": {
      "text/plain": [
       "79      https://www.cbc.ca/news/politics/refugees-face...\n",
       "474     https://www.cbc.ca/news/canada/calgary/require...\n",
       "134     https://www.cbc.ca/news/politics/canadian-bank...\n",
       "1596    https://www.cbc.ca/news/world/trump-mexico-wal...\n",
       "1127    https://www.cbc.ca/news/politics/komagata-maru...\n",
       "796     https://www.cbc.ca/news/politics/canada-immigr...\n",
       "1323    https://www.cbc.ca/news/politics/health-care-b...\n",
       "1506    https://www.cbc.ca/news/politics/liberal-trude...\n",
       "489     https://www.cbc.ca/news/business/recession-can...\n",
       "948     https://www.cbc.ca/news/politics/mcallum-philp...\n",
       "Name: url, dtype: object"
      ]
     },
     "execution_count": 30,
     "metadata": {},
     "output_type": "execute_result"
    }
   ],
   "source": [
    "thread_newsItems[column_thread_len] = thread_newsItems['comments'].apply(lambda x: max_thread_len(x))\n",
    "thread_newsItems_sorted = thread_newsItems.sort_values([column_thread_len], ascending=[False])\n",
    "thread_newsItems_sorted['url'].head(10)"
   ]
  },
  {
   "cell_type": "code",
   "execution_count": null,
   "metadata": {},
   "outputs": [],
   "source": []
  }
 ],
 "metadata": {
  "kernelspec": {
   "display_name": "Python 3",
   "language": "python",
   "name": "python3"
  },
  "language_info": {
   "codemirror_mode": {
    "name": "ipython",
    "version": 3
   },
   "file_extension": ".py",
   "mimetype": "text/x-python",
   "name": "python",
   "nbconvert_exporter": "python",
   "pygments_lexer": "ipython3",
   "version": "3.8.1"
  }
 },
 "nbformat": 4,
 "nbformat_minor": 4
}
