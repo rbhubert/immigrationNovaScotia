{
 "cells": [
  {
   "cell_type": "code",
   "execution_count": 20,
   "metadata": {},
   "outputs": [],
   "source": [
    "import pymongo\n",
    "import pandas\n",
    "import datetime\n",
    "\n",
    "client = pymongo.MongoClient(\"mongodb://localhost:27017/newsSearch\")\n",
    "db = client[\"newsSearch\"]\n",
    "newspaperCollection = \"newspaper\"\n",
    "redditCollection = \"reddit\"\n",
    "\n",
    "# all newsItems\n",
    "all_newsDataset = db[newspaperCollection].find({}, {\"_id\": 0})\n",
    "all_newsItems = pandas.DataFrame(list(all_newsDataset))\n",
    "\n",
    "# newsItems from December to May\n",
    "startDate = datetime.datetime(2017, 12, 1)\n",
    "endDate = datetime.datetime(2018, 5, 1)\n",
    "partial_newsDataset = db[newspaperCollection].find({\"creation_time\": {\"$gt\": startDate, \"$lt\": endDate}}, {\"_id\": 0})\n",
    "partial_newsItems = pandas.DataFrame(list(partial_newsDataset))"
   ]
  },
  {
   "cell_type": "code",
   "execution_count": 34,
   "metadata": {},
   "outputs": [],
   "source": [
    "def comments_len(comments_list):\n",
    "    return len(comments_list)\n",
    "        \n",
    "def replies_len(replies_list):\n",
    "    num_total = len(replies_list)\n",
    "    for reply in replies_list:\n",
    "        num_replies = replies_len(reply[\"replies\"])\n",
    "        num_total = num_total + num_replies\n",
    "    return num_total\n",
    "    \n",
    "def thread_len(comments_list):\n",
    "    num_comments = len(comments_list)\n",
    "    for comment in comments_list:\n",
    "        num_replies = replies_len(comment[\"replies\"])\n",
    "        num_comments = num_comments + num_replies\n",
    "    return num_comments\n",
    "\n",
    "def max_long_thread(comments_list):\n",
    "    max_long = 0\n",
    "    for comment in comments_list:\n",
    "        num_replies = replies_len(comment[\"replies\"])\n",
    "        max_long = num_replies if num_replies > max_long else max_long\n",
    "    return max_long\n",
    "\n",
    "def get_topic(row, classif, column_name):\n",
    "    classification = row[\"classification\"]\n",
    "    if classification == classif:\n",
    "        return row[column_name]\n",
    "    else:\n",
    "        return 0"
   ]
  },
  {
   "cell_type": "code",
   "execution_count": 27,
   "metadata": {
    "scrolled": false
   },
   "outputs": [
    {
     "name": "stderr",
     "output_type": "stream",
     "text": [
      "<ipython-input-27-d7bdf31fb648>:5: SettingWithCopyWarning: \n",
      "A value is trying to be set on a copy of a slice from a DataFrame.\n",
      "Try using .loc[row_indexer,col_indexer] = value instead\n",
      "\n",
      "See the caveats in the documentation: https://pandas.pydata.org/pandas-docs/stable/user_guide/indexing.html#returning-a-view-versus-a-copy\n",
      "  jobs[\"comments#\"] = jobs['comments'].apply(lambda x: thread_len(x))\n",
      "<ipython-input-27-d7bdf31fb648>:9: SettingWithCopyWarning: \n",
      "A value is trying to be set on a copy of a slice from a DataFrame.\n",
      "Try using .loc[row_indexer,col_indexer] = value instead\n",
      "\n",
      "See the caveats in the documentation: https://pandas.pydata.org/pandas-docs/stable/user_guide/indexing.html#returning-a-view-versus-a-copy\n",
      "  work[\"comments#\"] = work['comments'].apply(lambda x: thread_len(x))\n",
      "<ipython-input-27-d7bdf31fb648>:13: SettingWithCopyWarning: \n",
      "A value is trying to be set on a copy of a slice from a DataFrame.\n",
      "Try using .loc[row_indexer,col_indexer] = value instead\n",
      "\n",
      "See the caveats in the documentation: https://pandas.pydata.org/pandas-docs/stable/user_guide/indexing.html#returning-a-view-versus-a-copy\n",
      "  residents[\"comments#\"] = residents['comments'].apply(lambda x: thread_len(x))\n",
      "<ipython-input-27-d7bdf31fb648>:17: SettingWithCopyWarning: \n",
      "A value is trying to be set on a copy of a slice from a DataFrame.\n",
      "Try using .loc[row_indexer,col_indexer] = value instead\n",
      "\n",
      "See the caveats in the documentation: https://pandas.pydata.org/pandas-docs/stable/user_guide/indexing.html#returning-a-view-versus-a-copy\n",
      "  newcomers[\"comments#\"] = newcomers['comments'].apply(lambda x: thread_len(x))\n"
     ]
    }
   ],
   "source": [
    "# newsItems that have these work in the content: 'jobs', 'work', 'residents' or 'newcomers', \n",
    "# and the number of comments\n",
    "\n",
    "jobs = partial_newsItems[partial_newsItems['content_text'].str.contains(\"jobs\")]\n",
    "jobs[\"comments#\"] = jobs['comments'].apply(lambda x: thread_len(x))\n",
    "jobs_sorted = jobs.sort_values(['comments#'], ascending=[False])\n",
    "\n",
    "work = partial_newsItems[partial_newsItems['content_text'].str.contains(\"work\")]\n",
    "work[\"comments#\"] = work['comments'].apply(lambda x: thread_len(x))\n",
    "work_sorted = work.sort_values(['comments#'], ascending=[False])\n",
    "\n",
    "residents = partial_newsItems[partial_newsItems['content_text'].str.contains(\"residents\")]\n",
    "residents[\"comments#\"] = residents['comments'].apply(lambda x: thread_len(x))\n",
    "residents_sorted = residents.sort_values(['comments#'], ascending=[False])\n",
    "\n",
    "newcomers = partial_newsItems[partial_newsItems['content_text'].str.contains(\"newcomers\")]\n",
    "newcomers[\"comments#\"] = newcomers['comments'].apply(lambda x: thread_len(x))\n",
    "newcomers_sorted = newcomers.sort_values(['comments#'], ascending=[False])"
   ]
  },
  {
   "cell_type": "code",
   "execution_count": 28,
   "metadata": {},
   "outputs": [],
   "source": [
    "newsDataset = db[newspaperCollection].find({}, {\"_id\": 0})\n",
    "newsItems = pandas.DataFrame(list(newsDataset))\n",
    "\n",
    "all_newsItems[\"comments#\"] = all_newsItems['comments'].apply(lambda x: thread_len(x))\n",
    "all_newsItems_sorted = all_newsItems.sort_values(['comments#'], ascending=[False])"
   ]
  },
  {
   "cell_type": "code",
   "execution_count": 29,
   "metadata": {},
   "outputs": [
    {
     "data": {
      "text/plain": [
       "489     https://www.cbc.ca/news/business/recession-can...\n",
       "1185    https://www.cbc.ca/news/world/kirstjen-nielsen...\n",
       "1425    https://www.cbc.ca/news/canada/hamilton/hamilt...\n",
       "1596    https://www.cbc.ca/news/world/trump-mexico-wal...\n",
       "978     https://www.cbc.ca/news/canada/how-canada-is-p...\n",
       "1555    https://www.cbc.ca/news/politics/liberal-trude...\n",
       "796     https://www.cbc.ca/news/politics/canada-immigr...\n",
       "333     https://www.cbc.ca/news/politics/grenier-immig...\n",
       "485     https://www.cbc.ca/news/technology/canada-clim...\n",
       "146     https://www.cbc.ca/news/canada/immigrants-face...\n",
       "Name: url, dtype: object"
      ]
     },
     "execution_count": 29,
     "metadata": {},
     "output_type": "execute_result"
    }
   ],
   "source": [
    "# Get only those newsItem with more than N comments (in all comment threads)\n",
    "n = 1000\n",
    "newsItems_nComments = all_newsItems_sorted[all_newsItems_sorted[\"comments#\"] > n]\n",
    "\n",
    "#pandas.set_option('display.max_colwidth', -1)\n",
    "newsItems_nComments['url'].head(10)"
   ]
  },
  {
   "cell_type": "code",
   "execution_count": 40,
   "metadata": {
    "scrolled": true
   },
   "outputs": [],
   "source": [
    "import matplotlib.pyplot as plt\n",
    "\n",
    "def plot_df(dataframe, column_name):\n",
    "    dataframe = dataframe.reset_index()\n",
    "    ax = dataframe.plot(x='index', y=column_name, color=\"#A3A948\")\n",
    "    dataframe.plot(y=\"economic\", kind='bar', ax=ax, color=\"#EDB92E\", width=0.8)\n",
    "    dataframe.plot(y=\"education\", kind='bar', ax=ax, color=\"#F85931\", width=0.8)\n",
    "    dataframe.plot(y=\"health\", kind='bar', ax=ax, color=\"#CE1836\", width=0.8)\n",
    "    dataframe.plot(y=\"policies\", kind='bar', ax=ax, color=\"#009989\", width=0.8)\n",
    "    plt.tick_params(\n",
    "        axis='x',          # changes apply to the x-axis\n",
    "        which='both',      # both major and minor ticks are affected\n",
    "        bottom=False,      # ticks along the bottom edge are off\n",
    "        top=False,         # ticks along the top edge are off\n",
    "        labelbottom=False) # labels \n",
    "    plt.show()q"
   ]
  },
  {
   "cell_type": "code",
   "execution_count": 41,
   "metadata": {},
   "outputs": [
    {
     "data": {
      "image/png": "[encoded data removed]",
      "text/plain": [
       "<Figure size 432x288 with 1 Axes>"
      ]
     },
     "metadata": {
      "needs_background": "light"
     },
     "output_type": "display_data"
    }
   ],
   "source": [
    "newsItems_sorted = all_newsItems.sort_values(['comments#'], ascending=[False])\n",
    "newsItems_sorted = newsItems_sorted[newsItems_sorted[\"comments#\"] > 1000]\n",
    "newsItems_sorted = newsItems_sorted.reset_index()\n",
    "newsItems_sorted = newsItems_sorted.drop(['index'], axis=1)\n",
    "newsItems_sorted[\"economic\"] = newsItems_sorted.apply(lambda x: get_topic(x, \"economic\", \"comments#\"), axis=1)\n",
    "newsItems_sorted[\"education\"] = newsItems_sorted.apply(lambda x : get_topic(x, \"education\", \"comments#\"), axis=1)\n",
    "newsItems_sorted[\"health\"] = newsItems_sorted.apply(lambda x : get_topic(x, \"health\", \"comments#\"), axis=1)\n",
    "newsItems_sorted[\"policies\"] = newsItems_sorted.apply(lambda x : get_topic(x, \"policies\", \"comments#\"), axis=1)\n",
    "\n",
    "plot_df(newsItems_sorted, 'comments#')"
   ]
  },
  {
   "cell_type": "code",
   "execution_count": 42,
   "metadata": {},
   "outputs": [
    {
     "data": {
      "image/png": "[encoded data removed]",
      "text/plain": [
       "<Figure size 432x288 with 1 Axes>"
      ]
     },
     "metadata": {
      "needs_background": "light"
     },
     "output_type": "display_data"
    }
   ],
   "source": [
    "newsDataset = db[newspaperCollection].find({}, {\"_id\": 0})\n",
    "thread_newsItems = pandas.DataFrame(list(newsDataset))\n",
    "\n",
    "thread_newsItems[\"max_thread_long\"] = all_newsItems['comments'].apply(lambda x: max_long_thread(x))\n",
    "thread_newsItems_sorted = thread_newsItems.sort_values(['max_thread_long'], ascending=[False])\n",
    "\n",
    "n = 40\n",
    "newsItems_nLong = thread_newsItems_sorted[thread_newsItems_sorted[\"max_thread_long\"] > n]\n",
    "#newsItems_nLong\n",
    "    \n",
    "newsItems_nLong = newsItems_nLong.reset_index()\n",
    "newsItems_nLong = newsItems_nLong.drop(['index'], axis=1)\n",
    "newsItems_nLong[\"economic\"] = newsItems_nLong.apply(lambda x: get_topic(x, \"economic\", \"max_thread_long\"), axis=1)\n",
    "newsItems_nLong[\"education\"] = newsItems_nLong.apply(lambda x : get_topic(x, \"education\", \"max_thread_long\"), axis=1)\n",
    "newsItems_nLong[\"health\"] = newsItems_nLong.apply(lambda x : get_topic(x, \"health\", \"max_thread_long\"), axis=1)\n",
    "newsItems_nLong[\"policies\"] = newsItems_nLong.apply(lambda x : get_topic(x, \"policies\", \"max_thread_long\"), axis=1)\n",
    "\n",
    "plot_df(newsItems_nLong, \"max_thread_long\")"
   ]
  },
  {
   "cell_type": "code",
   "execution_count": 43,
   "metadata": {},
   "outputs": [
    {
     "data": {
      "text/plain": [
       "79      https://www.cbc.ca/news/politics/refugees-face...\n",
       "474     https://www.cbc.ca/news/canada/calgary/require...\n",
       "134     https://www.cbc.ca/news/politics/canadian-bank...\n",
       "1596    https://www.cbc.ca/news/world/trump-mexico-wal...\n",
       "1127    https://www.cbc.ca/news/politics/komagata-maru...\n",
       "796     https://www.cbc.ca/news/politics/canada-immigr...\n",
       "1323    https://www.cbc.ca/news/politics/health-care-b...\n",
       "1506    https://www.cbc.ca/news/politics/liberal-trude...\n",
       "489     https://www.cbc.ca/news/business/recession-can...\n",
       "948     https://www.cbc.ca/news/politics/mcallum-philp...\n",
       "Name: url, dtype: object"
      ]
     },
     "execution_count": 43,
     "metadata": {},
     "output_type": "execute_result"
    }
   ],
   "source": [
    "thread_newsItems[\"max_thread_long\"] = all_newsItems['comments'].apply(lambda x: max_long_thread(x))\n",
    "thread_newsItems_sorted = thread_newsItems.sort_values(['max_thread_long'], ascending=[False])\n",
    "thread_newsItems_sorted['url'].head(10)"
   ]
  },
  {
   "cell_type": "code",
   "execution_count": null,
   "metadata": {},
   "outputs": [],
   "source": []
  }
 ],
 "metadata": {
  "kernelspec": {
   "display_name": "Python 3",
   "language": "python",
   "name": "python3"
  },
  "language_info": {
   "codemirror_mode": {
    "name": "ipython",
    "version": 3
   },
   "file_extension": ".py",
   "mimetype": "text/x-python",
   "name": "python",
   "nbconvert_exporter": "python",
   "pygments_lexer": "ipython3",
   "version": "3.8.1"
  }
 },
 "nbformat": 4,
 "nbformat_minor": 4
}
